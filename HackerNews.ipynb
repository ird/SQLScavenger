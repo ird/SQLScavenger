{
 "cells": [
  {
   "cell_type": "code",
   "execution_count": 60,
   "metadata": {},
   "outputs": [
    {
     "name": "stdout",
     "output_type": "stream",
     "text": [
      "[SchemaField('id', 'integer', 'NULLABLE', 'Unique comment ID', ()), SchemaField('by', 'string', 'NULLABLE', 'Username of commenter', ()), SchemaField('author', 'string', 'NULLABLE', 'Username of author', ()), SchemaField('time', 'integer', 'NULLABLE', 'Unix time', ()), SchemaField('time_ts', 'timestamp', 'NULLABLE', 'Human readable time in UTC (format: YYYY-MM-DD hh:mm:ss)', ()), SchemaField('text', 'string', 'NULLABLE', 'Comment text', ()), SchemaField('parent', 'integer', 'NULLABLE', 'Parent comment ID', ()), SchemaField('deleted', 'boolean', 'NULLABLE', 'Is deleted?', ()), SchemaField('dead', 'boolean', 'NULLABLE', 'Is dead?', ()), SchemaField('ranking', 'integer', 'NULLABLE', 'Comment ranking', ())]\n"
     ]
    }
   ],
   "source": [
    "\"\"\"\n",
    "Day 2 of kaggle's SQL Scavenger\n",
    "\"\"\"\n",
    "\n",
    "from google.cloud import bigquery\n",
    "import pandas as pd\n",
    "\n",
    "def print_schema(client, project, dataset, table):\n",
    "    table_ref = client.dataset(dataset, project=project).table(table)\n",
    "    table_schema = [s for s in client.get_table(table_ref).schema]\n",
    "    cols = [s for s in table_schema]\n",
    "    print(cols)\n",
    "    \n",
    "def get_rows_as_df(client, project, dataset, table, max_rows=5):\n",
    "    \"\"\"\n",
    "    @returns a DataFrame with max_rows rows from project.dataset.table using bigquery\n",
    "    \"\"\"\n",
    "    table_ref = client.dataset(dataset, project=project).table(table)\n",
    "    table_schema = [s for s in client.get_table(table_ref).schema]\n",
    "    cols = [s.name for s in table_schema]\n",
    "    results = client.list_rows(table_ref, max_results=max_rows, selected_fields=table_schema)\n",
    "    return pd.DataFrame(\n",
    "        data=[x.values() for x in results], \n",
    "        columns=cols)\n",
    "\n",
    "def get_query_results_as_df(client, query):\n",
    "    query_job = client.query(query)\n",
    "    rows = list(query_job.result(timeout=30))\n",
    "    if len(rows) == 0:\n",
    "        print(\"query returned no rows\")\n",
    "        return pd.DataFrame()\n",
    "    return pd.DataFrame(\n",
    "        data=[list(x.values()) for x in rows], \n",
    "        columns=list(rows[0].keys()))\n",
    "\n",
    "client = bigquery.Client()\n",
    "get_rows_as_df(client, 'bigquery-public-data', 'hacker_news', 'comments')\n",
    "print_schema(client, 'bigquery-public-data', 'hacker_news', 'comments')"
   ]
  },
  {
   "cell_type": "code",
   "execution_count": 48,
   "metadata": {},
   "outputs": [
    {
     "name": "stdout",
     "output_type": "stream",
     "text": [
      "[5371725, 7833250, 3652041, 2403696, 8857265, 9460555, 9531224, 6816104, 547859, 3258254]\n"
     ]
    }
   ],
   "source": [
    "query = \"\"\"\n",
    "        SELECT parent, COUNT(id)\n",
    "        FROM `bigquery-public-data.hacker_news.comments`\n",
    "        GROUP BY parent\n",
    "        HAVING COUNT(id) > 10\n",
    "        \"\"\"\n",
    "popular_parents= list(get_query_results_as_df(client, query)['parent'])\n",
    "print(popular_parents[0:10])"
   ]
  },
  {
   "cell_type": "code",
   "execution_count": 58,
   "metadata": {},
   "outputs": [
    {
     "name": "stdout",
     "output_type": "stream",
     "text": [
      "query returned no rows\n"
     ]
    },
    {
     "data": {
      "text/html": [
       "<div>\n",
       "<style>\n",
       "    .dataframe thead tr:only-child th {\n",
       "        text-align: right;\n",
       "    }\n",
       "\n",
       "    .dataframe thead th {\n",
       "        text-align: left;\n",
       "    }\n",
       "\n",
       "    .dataframe tbody tr th {\n",
       "        vertical-align: top;\n",
       "    }\n",
       "</style>\n",
       "<table border=\"1\" class=\"dataframe\">\n",
       "  <thead>\n",
       "    <tr style=\"text-align: right;\">\n",
       "      <th></th>\n",
       "    </tr>\n",
       "  </thead>\n",
       "  <tbody>\n",
       "  </tbody>\n",
       "</table>\n",
       "</div>"
      ],
      "text/plain": [
       "Empty DataFrame\n",
       "Columns: []\n",
       "Index: []"
      ]
     },
     "execution_count": 58,
     "metadata": {},
     "output_type": "execute_result"
    }
   ],
   "source": [
    "query = \"\"\"\n",
    "        SELECT *\n",
    "        FROM `bigquery-public-data.hacker_news.comments`\n",
    "        WHERE id > 216230\"\"\"\n",
    "\n",
    "get_query_results_as_df(client, q)"
   ]
  },
  {
   "cell_type": "code",
   "execution_count": 22,
   "metadata": {},
   "outputs": [
    {
     "ename": "IndexError",
     "evalue": "list index out of range",
     "output_type": "error",
     "traceback": [
      "\u001b[0;31m---------------------------------------------------------------------------\u001b[0m",
      "\u001b[0;31mIndexError\u001b[0m                                Traceback (most recent call last)",
      "\u001b[0;32m<ipython-input-22-de8696e8c295>\u001b[0m in \u001b[0;36m<module>\u001b[0;34m()\u001b[0m\n\u001b[1;32m      4\u001b[0m         WHERE id =\"\"\"\n\u001b[1;32m      5\u001b[0m \u001b[0mquery\u001b[0m \u001b[0;34m+=\u001b[0m \u001b[0mstr\u001b[0m\u001b[0;34m(\u001b[0m\u001b[0mpopular_parent\u001b[0m\u001b[0;34m)\u001b[0m\u001b[0;34m\u001b[0m\u001b[0m\n\u001b[0;32m----> 6\u001b[0;31m \u001b[0mget_query_results_as_df\u001b[0m\u001b[0;34m(\u001b[0m\u001b[0mclient\u001b[0m\u001b[0;34m,\u001b[0m \u001b[0mquery\u001b[0m\u001b[0;34m)\u001b[0m\u001b[0;34m\u001b[0m\u001b[0m\n\u001b[0m",
      "\u001b[0;32m<ipython-input-14-baa838695e51>\u001b[0m in \u001b[0;36mget_query_results_as_df\u001b[0;34m(client, query)\u001b[0m\n\u001b[1;32m     21\u001b[0m     \u001b[0mrows\u001b[0m \u001b[0;34m=\u001b[0m \u001b[0mlist\u001b[0m\u001b[0;34m(\u001b[0m\u001b[0mquery_job\u001b[0m\u001b[0;34m.\u001b[0m\u001b[0mresult\u001b[0m\u001b[0;34m(\u001b[0m\u001b[0mtimeout\u001b[0m\u001b[0;34m=\u001b[0m\u001b[0;36m30\u001b[0m\u001b[0;34m)\u001b[0m\u001b[0;34m)\u001b[0m\u001b[0;34m\u001b[0m\u001b[0m\n\u001b[1;32m     22\u001b[0m     return pd.DataFrame(\n\u001b[0;32m---> 23\u001b[0;31m         data=[x.values() for x in rows], columns=list(rows[0].keys()))\n\u001b[0m\u001b[1;32m     24\u001b[0m \u001b[0;34m\u001b[0m\u001b[0m\n\u001b[1;32m     25\u001b[0m \u001b[0mclient\u001b[0m \u001b[0;34m=\u001b[0m \u001b[0mbigquery\u001b[0m\u001b[0;34m.\u001b[0m\u001b[0mClient\u001b[0m\u001b[0;34m(\u001b[0m\u001b[0;34m)\u001b[0m\u001b[0;34m\u001b[0m\u001b[0m\n",
      "\u001b[0;31mIndexError\u001b[0m: list index out of range"
     ]
    }
   ],
   "source": []
  },
  {
   "cell_type": "code",
   "execution_count": null,
   "metadata": {},
   "outputs": [],
   "source": []
  }
 ],
 "metadata": {
  "kernelspec": {
   "display_name": "Python 3",
   "language": "python",
   "name": "python3"
  },
  "language_info": {
   "codemirror_mode": {
    "name": "ipython",
    "version": 3
   },
   "file_extension": ".py",
   "mimetype": "text/x-python",
   "name": "python",
   "nbconvert_exporter": "python",
   "pygments_lexer": "ipython3",
   "version": "3.5.2"
  }
 },
 "nbformat": 4,
 "nbformat_minor": 2
}
