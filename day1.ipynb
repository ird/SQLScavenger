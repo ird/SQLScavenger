{
 "cells": [
  {
   "cell_type": "code",
   "execution_count": 1,
   "metadata": {},
   "outputs": [
    {
     "name": "stdout",
     "output_type": "stream",
     "text": [
      "64 results\n",
      "['US', 'FR', 'TH', 'CL', 'IN', 'NL', 'GB', 'CH', 'PT', 'ES', 'BR', 'TR', 'PE', 'NO', 'HK', 'LV', 'IT', 'CN', 'GH', 'PL', 'SI', 'BD', 'MT', 'VN', 'BA', 'BE', 'TW', 'LT', 'DE', 'CO', 'SE', 'NG', 'MK', 'AU', 'BH', 'PH', 'RU', 'CA', 'AD', 'IE', 'AT', 'ID', 'HU', 'LK', 'UG', 'FI', 'IL', 'LU', 'HR', 'XK', 'AE', 'NP', 'SG', 'CZ', 'MX', 'DK', 'ET', 'KW', 'MN', 'AR', 'RS', 'ZA', 'SK', 'GI']\n"
     ]
    }
   ],
   "source": [
    "from google.cloud import bigquery\n",
    "client = bigquery.Client()\n",
    "# Which countries do not use ppm as a unit to measure pollutants?\n",
    "query = \"\"\"SELECT DISTINCT country\n",
    "            FROM `bigquery-public-data.openaq.global_air_quality`\n",
    "            WHERE unit != 'ppm'\n",
    "        \"\"\"\n",
    "query_job = client.query(query)\n",
    "rows = list(query_job.result(timeout=30))\n",
    "print(len(rows), \"results\")\n",
    "print([x.country for x in rows])"
   ]
  },
  {
   "cell_type": "code",
   "execution_count": 10,
   "metadata": {},
   "outputs": [
    {
     "name": "stdout",
     "output_type": "stream",
     "text": [
      "dict_keys(['LT', 'MK', 'ET', 'RU', 'BH', 'CN', 'RS', 'NG', 'IE', 'AE', 'SE', 'CH', 'HR', 'AR', 'PL', 'XK', 'US', 'PH', 'AD', 'NP', 'IL', 'CO', 'BR', 'IT', 'MN', 'PT', 'MX', 'DK', 'LV', 'CL', 'GH', 'GB', 'KW', 'FI', 'PE', 'TW', 'BA', 'CZ', 'HU', 'IN', 'AU', 'AT', 'NO', 'BE', 'DE', 'ID', 'ES', 'NL', 'FR', 'TR', 'ZA', 'LU', 'VN', 'SI', 'SG', 'MT', 'LK', 'HK', 'TH', 'UG', 'BD', 'SK', 'CA', 'GI'])\n"
     ]
    }
   ],
   "source": [
    "# if DISTINCT is not used\n",
    "unique_res = {}\n",
    "for x in rows:\n",
    "    if x.country in unique_res:\n",
    "        unique_res[x.country] += 1\n",
    "    else:\n",
    "        unique_res[x.country] = 1\n",
    "print(unique_res.keys())"
   ]
  },
  {
   "cell_type": "code",
   "execution_count": 12,
   "metadata": {},
   "outputs": [
    {
     "name": "stdout",
     "output_type": "stream",
     "text": [
      "1                                        Sur\n",
      "2                          Akron - NIHF_STEM\n",
      "3                                     Lee HS\n",
      "4                                    MT00005\n",
      "5                                      Puren\n",
      "6                                      Rengo\n",
      "7                                    REIBOLD\n",
      "8                                     Indura\n",
      "9                                       МАДИ\n",
      "10                                 Саларьево\n",
      "11                                    Osorno\n",
      "12                                     Brist\n",
      "13                                  Alsancak\n",
      "14                         Wels Linzerstraße\n",
      "15                                   ES1601A\n",
      "16                  Din Daeng Rd., Din Daeng\n",
      "17                               Lota urbana\n",
      "18                                   Quilpue\n",
      "19                                   Romeral\n",
      "20                                   LT00001\n",
      "21                                   LT00003\n",
      "22                              PARIS Centre\n",
      "23                             AUBERVILLIERS\n",
      "24                        Place Victor Basch\n",
      "25                      Auto A1 -Saint-Denis\n",
      "26                                     JUNJI\n",
      "27                                   Gateway\n",
      "28                                  Punteras\n",
      "29                                   Quillón\n",
      "30                                  Quintero\n",
      "                       ...                  \n",
      "71                         Campbelltown West\n",
      "72                      Universidad de Talca\n",
      "73                                תחנה:חולון\n",
      "74                                ALLEN PARK\n",
      "75                                    Mentor\n",
      "76                              תחנה:מודיעין\n",
      "77                        Portland Near Road\n",
      "78                      Portland - SE Lafaye\n",
      "79     Innsbruck Zentrum - Fallmerayerstraße\n",
      "80                               Taborstraße\n",
      "81                      Rinnböckstraße - A23\n",
      "82                Wehlistraße/Südosttangente\n",
      "83                             Mission Viejo\n",
      "84           Klagenfurt Völkermarkter Straße\n",
      "85                                    Kendal\n",
      "86                             East Hartford\n",
      "87                   Feldkirch B�renkreuzung\n",
      "88                                     Risoe\n",
      "89                               Odense/9155\n",
      "90                           Copenhagen/1103\n",
      "91                               East Orange\n",
      "92                Eisenstadt Laschoberstraße\n",
      "93                    Graz Süd Tiergartenweg\n",
      "94              Leoben Donawitz Kindergarten\n",
      "95                         Linz 24er Turm A7\n",
      "96                       Linz Römerberg B139\n",
      "97                 Steyregg Au, Freizeitpark\n",
      "98                         Mödling Bachgasse\n",
      "99                  Vösendorf Kindbergstraße\n",
      "100               St. Pölten Europaplatz HTL\n",
      "Name: location, Length: 100, dtype: object\n"
     ]
    }
   ],
   "source": [
    "# Which pollutants have a value of exactly 0, in what locations?\n",
    "query =  \"\"\"SELECT pollutant, location\n",
    "            FROM `bigquery-public-data.openaq.global_air_quality`\n",
    "            WHERE value = 0.00\"\"\"\n",
    "query_job = client.query(query)\n",
    "rows = list(query_job.result(timeout=30))\n",
    "# print(len(rows), \"results\")\n",
    "# print([x.pollutant for x in rows])\n",
    "\n",
    "import pandas as pd\n",
    "df = pd.DataFrame(data=[list(x.values()) for x in rows], columns=list(rows[0].keys()))\n",
    "# e.g. places where there is a recorded CO level of 0.\n",
    "print(df['location'][df['pollutant'] == 'co'])"
   ]
  },
  {
   "cell_type": "code",
   "execution_count": 26,
   "metadata": {},
   "outputs": [
    {
     "name": "stdout",
     "output_type": "stream",
     "text": [
      "location : Location where data was measured\n",
      "city : City containing location\n",
      "country : Country containing measurement in 2 letter ISO code\n",
      "pollutant : Name of the Pollutant being measured. Allowed values: PM25, PM10, SO2, NO2, O3, CO, BC\n",
      "value : Latest measured value for the pollutant\n",
      "timestamp : The datetime at which the pollutant was measured, in ISO 8601 format\n",
      "unit : The unit the value was measured in coded by UCUM Code\n",
      "source_name : Name of the source of the data\n",
      "latitude : Latitude in decimal degrees. Precision >3 decimal points.\n",
      "longitude : Longitude in decimal degrees. Precision >3 decimal points.\n",
      "averaged_over_in_hours : The number of hours the value was averaged over.\n"
     ]
    }
   ],
   "source": [
    "# get the schema to explain what each column means\n",
    "table_ref = client.dataset('openaq', project='bigquery-public-data').table('global_air_quality')\n",
    "for name, desc in [(s.name, s.description) for s in client.get_table(table_ref).schema]:\n",
    "    print(name, \":\", desc)"
   ]
  },
  {
   "cell_type": "code",
   "execution_count": null,
   "metadata": {},
   "outputs": [],
   "source": []
  }
 ],
 "metadata": {
  "kernelspec": {
   "display_name": "Python 3",
   "language": "python",
   "name": "python3"
  },
  "language_info": {
   "codemirror_mode": {
    "name": "ipython",
    "version": 3
   },
   "file_extension": ".py",
   "mimetype": "text/x-python",
   "name": "python",
   "nbconvert_exporter": "python",
   "pygments_lexer": "ipython3",
   "version": "3.5.2"
  }
 },
 "nbformat": 4,
 "nbformat_minor": 2
}
