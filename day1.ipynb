{
 "cells": [
  {
   "cell_type": "code",
   "execution_count": 14,
   "metadata": {},
   "outputs": [
    {
     "name": "stdout",
     "output_type": "stream",
     "text": [
      "64 results\n",
      "['US', 'FR', 'TH', 'IN', 'NL', 'GB', 'CH', 'PT', 'ES', 'BR', 'TR', 'PE', 'NO', 'HK', 'LV', 'IT', 'CN', 'GH', 'CL', 'PL', 'SI', 'BD', 'MT', 'VN', 'BA', 'BE', 'TW', 'LT', 'DE', 'CO', 'SE', 'NG', 'MK', 'AU', 'BH', 'PH', 'RU', 'CA', 'AD', 'IE', 'AT', 'ID', 'HU', 'LK', 'UG', 'FI', 'IL', 'LU', 'HR', 'XK', 'AE', 'NP', 'SG', 'CZ', 'MX', 'DK', 'ET', 'KW', 'MN', 'AR', 'RS', 'ZA', 'SK', 'GI']\n"
     ]
    }
   ],
   "source": [
    "from google.cloud import bigquery\n",
    "client = bigquery.Client()\n",
    "# Which countries do not use ppm as a unit to measure pollutants?\n",
    "query = \"\"\"SELECT DISTINCT country\n",
    "            FROM `bigquery-public-data.openaq.global_air_quality`\n",
    "            WHERE unit != 'ppm'\n",
    "        \"\"\"\n",
    "query_job = client.query(query)\n",
    "rows = list(query_job.result(timeout=30))\n",
    "print(len(rows), \"results\")\n",
    "print([x.country for x in rows])"
   ]
  },
  {
   "cell_type": "code",
   "execution_count": 10,
   "metadata": {},
   "outputs": [
    {
     "name": "stdout",
     "output_type": "stream",
     "text": [
      "dict_keys(['LT', 'MK', 'ET', 'RU', 'BH', 'CN', 'RS', 'NG', 'IE', 'AE', 'SE', 'CH', 'HR', 'AR', 'PL', 'XK', 'US', 'PH', 'AD', 'NP', 'IL', 'CO', 'BR', 'IT', 'MN', 'PT', 'MX', 'DK', 'LV', 'CL', 'GH', 'GB', 'KW', 'FI', 'PE', 'TW', 'BA', 'CZ', 'HU', 'IN', 'AU', 'AT', 'NO', 'BE', 'DE', 'ID', 'ES', 'NL', 'FR', 'TR', 'ZA', 'LU', 'VN', 'SI', 'SG', 'MT', 'LK', 'HK', 'TH', 'UG', 'BD', 'SK', 'CA', 'GI'])\n"
     ]
    }
   ],
   "source": [
    "# if DISTINCT is not used\n",
    "unique_res = {}\n",
    "for x in rows:\n",
    "    if x.country in unique_res:\n",
    "        unique_res[x.country] += 1\n",
    "    else:\n",
    "        unique_res[x.country] = 1\n",
    "print(unique_res.keys())"
   ]
  },
  {
   "cell_type": "code",
   "execution_count": 18,
   "metadata": {},
   "outputs": [
    {
     "name": "stdout",
     "output_type": "stream",
     "text": [
      "7 results\n",
      "['pm25', 'so2', 'no2', 'pm10', 'o3', 'co', 'bc']\n"
     ]
    }
   ],
   "source": [
    "# Which pollutants have a value of exactly 0?\n",
    "query =  \"\"\"SELECT DISTINCT pollutant\n",
    "            FROM `bigquery-public-data.openaq.global_air_quality`\n",
    "            WHERE value = 0.00\"\"\"\n",
    "query_job = client.query(query)\n",
    "rows = list(query_job.result(timeout=30))\n",
    "print(len(rows), \"results\")\n",
    "print([x.pollutant for x in rows])"
   ]
  },
  {
   "cell_type": "code",
   "execution_count": 26,
   "metadata": {},
   "outputs": [
    {
     "name": "stdout",
     "output_type": "stream",
     "text": [
      "location : Location where data was measured\n",
      "city : City containing location\n",
      "country : Country containing measurement in 2 letter ISO code\n",
      "pollutant : Name of the Pollutant being measured. Allowed values: PM25, PM10, SO2, NO2, O3, CO, BC\n",
      "value : Latest measured value for the pollutant\n",
      "timestamp : The datetime at which the pollutant was measured, in ISO 8601 format\n",
      "unit : The unit the value was measured in coded by UCUM Code\n",
      "source_name : Name of the source of the data\n",
      "latitude : Latitude in decimal degrees. Precision >3 decimal points.\n",
      "longitude : Longitude in decimal degrees. Precision >3 decimal points.\n",
      "averaged_over_in_hours : The number of hours the value was averaged over.\n"
     ]
    }
   ],
   "source": [
    "# get the schema to explain what each column means\n",
    "table_ref = client.dataset('openaq', project='bigquery-public-data').table('global_air_quality')\n",
    "for name, desc in [(s.name, s.description) for s in client.get_table(table_ref).schema]:\n",
    "    print(name, \":\", desc)"
   ]
  },
  {
   "cell_type": "code",
   "execution_count": null,
   "metadata": {},
   "outputs": [],
   "source": []
  }
 ],
 "metadata": {
  "kernelspec": {
   "display_name": "Python 3",
   "language": "python",
   "name": "python3"
  },
  "language_info": {
   "codemirror_mode": {
    "name": "ipython",
    "version": 3
   },
   "file_extension": ".py",
   "mimetype": "text/x-python",
   "name": "python",
   "nbconvert_exporter": "python",
   "pygments_lexer": "ipython3",
   "version": "3.5.2"
  }
 },
 "nbformat": 4,
 "nbformat_minor": 2
}
