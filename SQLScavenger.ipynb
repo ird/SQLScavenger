{
 "cells": [
  {
   "cell_type": "code",
   "execution_count": 11,
   "metadata": {},
   "outputs": [],
   "source": [
    "from google.cloud import bigquery\n",
    "client = bigquery.Client(project=\"bigquery-public-data\")"
   ]
  },
  {
   "cell_type": "code",
   "execution_count": 12,
   "metadata": {},
   "outputs": [
    {
     "name": "stdout",
     "output_type": "stream",
     "text": [
      "baseball\n",
      "bitcoin_blockchain\n",
      "bls\n",
      "census_bureau_international\n",
      "census_bureau_usa\n",
      "chicago_crime\n",
      "chicago_taxi_trips\n",
      "cloud_storage_geo_index\n",
      "cms_codes\n",
      "cms_medicare\n",
      "common_eu\n",
      "common_us\n",
      "eclipse_megamovie\n",
      "epa_historical_air_quality\n",
      "fec\n",
      "genomics_cannabis\n",
      "ghcn_d\n",
      "ghcn_m\n",
      "github_repos\n",
      "hacker_news\n",
      "human_variant_annotation\n",
      "irs_990\n",
      "libraries_io\n",
      "london_crime\n",
      "medicare\n",
      "new_york\n",
      "nhtsa_traffic_fatalities\n",
      "nlm_rxnorm\n",
      "noaa_goes16\n",
      "noaa_gsod\n",
      "noaa_hurricanes\n",
      "noaa_icoads\n",
      "noaa_spc\n",
      "nppes\n",
      "open_images\n",
      "openaq\n",
      "samples\n",
      "san_francisco\n",
      "san_francisco_311\n",
      "stackoverflow\n",
      "sunroof_solar\n",
      "the_met\n",
      "usa_names\n",
      "usfs_fia\n",
      "utility_eu\n",
      "utility_us\n",
      "world_bank_health_population\n",
      "world_bank_intl_debt\n",
      "world_bank_intl_education\n"
     ]
    }
   ],
   "source": [
    "for dataset in client.list_datasets():\n",
    "    print(dataset.dataset_id)"
   ]
  },
  {
   "cell_type": "code",
   "execution_count": 13,
   "metadata": {},
   "outputs": [],
   "source": [
    "openaq = client.get_dataset(client.dataset('openaq'))"
   ]
  },
  {
   "cell_type": "code",
   "execution_count": 14,
   "metadata": {
    "scrolled": true
   },
   "outputs": [
    {
     "name": "stdout",
     "output_type": "stream",
     "text": [
      "global_air_quality\n"
     ]
    }
   ],
   "source": [
    "for table in client.list_tables(openaq):\n",
    "    print(table.table_id)"
   ]
  },
  {
   "cell_type": "code",
   "execution_count": 15,
   "metadata": {},
   "outputs": [],
   "source": [
    "air_quality_table = client.get_table(openaq.table('global_air_quality'))"
   ]
  },
  {
   "cell_type": "code",
   "execution_count": null,
   "metadata": {},
   "outputs": [],
   "source": []
  }
 ],
 "metadata": {
  "kernelspec": {
   "display_name": "Python 3",
   "language": "python",
   "name": "python3"
  },
  "language_info": {
   "codemirror_mode": {
    "name": "ipython",
    "version": 3
   },
   "file_extension": ".py",
   "mimetype": "text/x-python",
   "name": "python",
   "nbconvert_exporter": "python",
   "pygments_lexer": "ipython3",
   "version": "3.5.2"
  }
 },
 "nbformat": 4,
 "nbformat_minor": 2
}
