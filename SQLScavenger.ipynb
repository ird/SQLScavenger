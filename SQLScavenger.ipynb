{
 "cells": [
  {
   "cell_type": "code",
   "execution_count": 2,
   "metadata": {},
   "outputs": [],
   "source": [
    "from google.cloud import bigquery\n",
    "client = bigquery.Client(project=\"bigquery-public-data\")"
   ]
  },
  {
   "cell_type": "code",
   "execution_count": 12,
   "metadata": {},
   "outputs": [
    {
     "name": "stdout",
     "output_type": "stream",
     "text": [
      "baseball\n",
      "bitcoin_blockchain\n",
      "bls\n",
      "census_bureau_international\n",
      "census_bureau_usa\n",
      "chicago_crime\n",
      "chicago_taxi_trips\n",
      "cloud_storage_geo_index\n",
      "cms_codes\n",
      "cms_medicare\n",
      "common_eu\n",
      "common_us\n",
      "eclipse_megamovie\n",
      "epa_historical_air_quality\n",
      "fec\n",
      "genomics_cannabis\n",
      "ghcn_d\n",
      "ghcn_m\n",
      "github_repos\n",
      "hacker_news\n",
      "human_variant_annotation\n",
      "irs_990\n",
      "libraries_io\n",
      "london_crime\n",
      "medicare\n",
      "new_york\n",
      "nhtsa_traffic_fatalities\n",
      "nlm_rxnorm\n",
      "noaa_goes16\n",
      "noaa_gsod\n",
      "noaa_hurricanes\n",
      "noaa_icoads\n",
      "noaa_spc\n",
      "nppes\n",
      "open_images\n",
      "openaq\n",
      "samples\n",
      "san_francisco\n",
      "san_francisco_311\n",
      "stackoverflow\n",
      "sunroof_solar\n",
      "the_met\n",
      "usa_names\n",
      "usfs_fia\n",
      "utility_eu\n",
      "utility_us\n",
      "world_bank_health_population\n",
      "world_bank_intl_debt\n",
      "world_bank_intl_education\n"
     ]
    }
   ],
   "source": [
    "for dataset in client.list_datasets():\n",
    "    print(dataset.dataset_id)"
   ]
  },
  {
   "cell_type": "code",
   "execution_count": 3,
   "metadata": {},
   "outputs": [],
   "source": [
    "openaq = client.get_dataset(client.dataset('openaq'))"
   ]
  },
  {
   "cell_type": "code",
   "execution_count": 14,
   "metadata": {
    "scrolled": true
   },
   "outputs": [
    {
     "name": "stdout",
     "output_type": "stream",
     "text": [
      "global_air_quality\n"
     ]
    }
   ],
   "source": [
    "for table in client.list_tables(openaq):\n",
    "    print(table.table_id)"
   ]
  },
  {
   "cell_type": "code",
   "execution_count": 4,
   "metadata": {},
   "outputs": [],
   "source": [
    "air_quality_table = client.get_table(openaq.table('global_air_quality'))"
   ]
  },
  {
   "cell_type": "code",
   "execution_count": 5,
   "metadata": {},
   "outputs": [
    {
     "name": "stdout",
     "output_type": "stream",
     "text": [
      "[SchemaField('location', 'string', 'NULLABLE', 'Location where data was measured', ()), SchemaField('city', 'string', 'NULLABLE', 'City containing location', ()), SchemaField('country', 'string', 'NULLABLE', 'Country containing measurement in 2 letter ISO code', ()), SchemaField('pollutant', 'string', 'NULLABLE', 'Name of the Pollutant being measured. Allowed values: PM25, PM10, SO2, NO2, O3, CO, BC', ()), SchemaField('value', 'float', 'NULLABLE', 'Latest measured value for the pollutant', ()), SchemaField('timestamp', 'timestamp', 'NULLABLE', 'The datetime at which the pollutant was measured, in ISO 8601 format', ()), SchemaField('unit', 'string', 'NULLABLE', 'The unit the value was measured in coded by UCUM Code', ()), SchemaField('source_name', 'string', 'NULLABLE', 'Name of the source of the data', ()), SchemaField('latitude', 'float', 'NULLABLE', 'Latitude in decimal degrees. Precision >3 decimal points.', ()), SchemaField('longitude', 'float', 'NULLABLE', 'Longitude in decimal degrees. Precision >3 decimal points.', ()), SchemaField('averaged_over_in_hours', 'float', 'NULLABLE', 'The number of hours the value was averaged over.', ())]\n"
     ]
    }
   ],
   "source": [
    "print(air_quality_table.schema)"
   ]
  },
  {
   "cell_type": "code",
   "execution_count": 7,
   "metadata": {},
   "outputs": [
    {
     "name": "stdout",
     "output_type": "stream",
     "text": [
      "['location', 'city', 'country', 'pollutant', 'value', 'timestamp', 'unit', 'source_name', 'latitude', 'longitude', 'averaged_over_in_hours']\n"
     ]
    }
   ],
   "source": [
    "cols = [x.name for x in air_quality_table.schema]\n",
    "print(cols)"
   ]
  },
  {
   "cell_type": "code",
   "execution_count": null,
   "metadata": {},
   "outputs": [],
   "source": []
  }
 ],
 "metadata": {
  "kernelspec": {
   "display_name": "Python 3",
   "language": "python",
   "name": "python3"
  },
  "language_info": {
   "codemirror_mode": {
    "name": "ipython",
    "version": 3
   },
   "file_extension": ".py",
   "mimetype": "text/x-python",
   "name": "python",
   "nbconvert_exporter": "python",
   "pygments_lexer": "ipython3",
   "version": "3.5.2"
  }
 },
 "nbformat": 4,
 "nbformat_minor": 2
}
